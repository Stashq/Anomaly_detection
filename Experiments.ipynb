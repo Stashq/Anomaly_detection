{
 "metadata": {
  "language_info": {
   "codemirror_mode": {
    "name": "ipython",
    "version": 3
   },
   "file_extension": ".py",
   "mimetype": "text/x-python",
   "name": "python",
   "nbconvert_exporter": "python",
   "pygments_lexer": "ipython3",
   "version": "3.8.5"
  },
  "orig_nbformat": 2,
  "kernelspec": {
   "name": "python3",
   "display_name": "Python 3.8.5 64-bit ('dl': conda)",
   "metadata": {
    "interpreter": {
     "hash": "f24068ba6ffd331f944d737ba7368dadf9c7a40e7ee6c64f822a8a7846b5a23f"
    }
   }
  }
 },
 "nbformat": 4,
 "nbformat_minor": 2,
 "cells": [
  {
   "cell_type": "code",
   "execution_count": 1,
   "metadata": {},
   "outputs": [
    {
     "output_type": "stream",
     "name": "stdout",
     "text": [
      "Device:  cpu\n",
      "/home/stachu/anaconda3/envs/dl/lib/python3.8/site-packages/torch/cuda/__init__.py:52: UserWarning: CUDA initialization: CUDA unknown error - this may be due to an incorrectly set up environment, e.g. changing env variable CUDA_VISIBLE_DEVICES after program start. Setting the available devices to be zero. (Triggered internally at  /pytorch/c10/cuda/CUDAFunctions.cpp:100.)\n",
      "  return torch._C._cuda_getDeviceCount() > 0\n"
     ]
    }
   ],
   "source": [
    "from src.deep_ant import DeepAnt\n",
    "from src.lstm_ad import LSTM_AD\n",
    "from src.lstm_ed import LSTM_ED\n",
    "from src import pipeline\n",
    "\n",
    "import torch\n",
    "import src\n",
    "import numpy as np\n",
    "import pandas as pd\n",
    "import matplotlib.pyplot as plt\n",
    "import seaborn as sns\n",
    "sns.set_style('darkgrid')\n",
    "\n",
    "use_cuda = torch.cuda.is_available()\n",
    "device = torch.device(\"cuda\" if use_cuda else \"cpu\")\n",
    "print(\"Device: \", device)"
   ]
  },
  {
   "cell_type": "code",
   "execution_count": null,
   "metadata": {},
   "outputs": [],
   "source": [
    "window_size = 64\n",
    "# train_loader, test_loader, test_df = pipeline.create_sin_dataset(\n",
    "#     window_size=window_size,\n",
    "#     device=device,\n",
    "#     shuffle=False,\n",
    "#     return_val_df=True,\n",
    "#     model_type=\"CNN\"\n",
    "# )\n",
    "\n"
   ]
  },
  {
   "cell_type": "code",
   "execution_count": null,
   "metadata": {},
   "outputs": [],
   "source": [
    "params = {\n",
    "    \"out_channels_1\": 16,\n",
    "    \"kernel_size_1\": 32,\n",
    "    \"stride_1\": 1,\n",
    "    \"padding_1\": 0,\n",
    "    \"out_channels_2\": 32,\n",
    "    \"kernel_size_2\": 5,\n",
    "    \"stride_2\": 1,\n",
    "    \"padding_2\": 0,\n",
    "    \"max_pool\": 2,\n",
    "    \"linear_out_1\": 128,\n",
    "}\n",
    "pipeline.train_evaluate(\n",
    "    train_loader=train_loader,\n",
    "    test_loader=test_loader,\n",
    "    test_df=test_df,\n",
    "    window_size=window_size,\n",
    "    AnomalyDetector=DeepAnt,\n",
    "    model_name=\"DeepAnt\",\n",
    "    n_epochs=10,\n",
    "    verbose=1,\n",
    "    plot_results=True,\n",
    "    device=device,\n",
    "    **params\n",
    ")"
   ]
  },
  {
   "cell_type": "code",
   "execution_count": null,
   "metadata": {},
   "outputs": [],
   "source": [
    "params = {\n",
    "    \"hidden_size1\": 20,\n",
    "    \"hidden_size2\": 20,\n",
    "}\n",
    "pipeline.train_evaluate(\n",
    "    train_loader=train_loader,\n",
    "    test_loader=test_loader,\n",
    "    test_df=test_df,\n",
    "    window_size=window_size,\n",
    "    AnomalyDetector=LSTM_AD,\n",
    "    model_name=\"LSTM-AD\",\n",
    "    n_epochs=10,\n",
    "    verbose=1,\n",
    "    plot_results=True,\n",
    "    device=device,\n",
    "    **params\n",
    ")"
   ]
  },
  {
   "cell_type": "code",
   "execution_count": null,
   "metadata": {},
   "outputs": [],
   "source": [
    "params = {\n",
    "    \"input_size\": 1\n",
    "}\n",
    "pipeline.train_evaluate(\n",
    "    train_loader=train_loader,\n",
    "    test_loader=test_loader,\n",
    "    test_df=test_df,\n",
    "    window_size=window_size,\n",
    "    AnomalyDetector=LSTM_ED,\n",
    "    model_name=\"LSTM-ED\",\n",
    "    n_epochs=10,\n",
    "    verbose=1,\n",
    "    plot_results=True,\n",
    "    device=device,\n",
    "    **params\n",
    ")"
   ]
  }
 ]
}